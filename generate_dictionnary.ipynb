{
 "cells": [
  {
   "cell_type": "markdown",
   "metadata": {},
   "source": [
    "## Collect french words"
   ]
  },
  {
   "cell_type": "markdown",
   "metadata": {},
   "source": [
    "https://fr.wiktionary.org/wiki/Wiktionnaire:10000-wp-fr"
   ]
  },
  {
   "cell_type": "code",
   "execution_count": 81,
   "metadata": {
    "collapsed": true
   },
   "outputs": [],
   "source": [
    "import urllib2\n",
    "import unidecode\n",
    "\n",
    "from scrapy.selector import Selector\n",
    "from scrapy.http import HtmlResponse"
   ]
  },
  {
   "cell_type": "code",
   "execution_count": 98,
   "metadata": {
    "collapsed": true
   },
   "outputs": [],
   "source": [
    "dict_url = 'https://fr.wiktionary.org/wiki/Wiktionnaire:10000-wp-fr-{num}000'\n",
    "dict_filename = 'data/dictionnary.fr.txt'\n",
    "stopwords_filename = 'data/stopwords.fr.txt'"
   ]
  },
  {
   "cell_type": "code",
   "execution_count": 92,
   "metadata": {
    "collapsed": true
   },
   "outputs": [],
   "source": [
    "dictionnary = set()"
   ]
  },
  {
   "cell_type": "code",
   "execution_count": 101,
   "metadata": {
    "collapsed": true
   },
   "outputs": [],
   "source": [
    "def process_word(word):\n",
    "    return unidecode.unidecode(word.decode('utf-8')).lower()"
   ]
  },
  {
   "cell_type": "code",
   "execution_count": 102,
   "metadata": {
    "collapsed": false
   },
   "outputs": [
    {
     "name": "stdout",
     "output_type": "stream",
     "text": [
      "uuuyaa ae ceeeeiio oe uuuyaaceeeeiio ae oe\n"
     ]
    }
   ],
   "source": [
    "w = 'ùûüÿàâ æ çéèêëïîô œ ÙÛÜŸÀÂÇÉÈÊËÏÎÔ Æ Œ'\n",
    "print process_word(w)"
   ]
  },
  {
   "cell_type": "markdown",
   "metadata": {},
   "source": [
    "Get words from wiktionnaire"
   ]
  },
  {
   "cell_type": "code",
   "execution_count": 95,
   "metadata": {
    "collapsed": false
   },
   "outputs": [
    {
     "name": "stdout",
     "output_type": "stream",
     "text": [
      "https://fr.wiktionary.org/wiki/Wiktionnaire:10000-wp-fr-1000\n",
      "https://fr.wiktionary.org/wiki/Wiktionnaire:10000-wp-fr-2000\n",
      "https://fr.wiktionary.org/wiki/Wiktionnaire:10000-wp-fr-3000\n",
      "https://fr.wiktionary.org/wiki/Wiktionnaire:10000-wp-fr-4000\n",
      "https://fr.wiktionary.org/wiki/Wiktionnaire:10000-wp-fr-5000\n",
      "https://fr.wiktionary.org/wiki/Wiktionnaire:10000-wp-fr-6000\n",
      "https://fr.wiktionary.org/wiki/Wiktionnaire:10000-wp-fr-7000\n",
      "https://fr.wiktionary.org/wiki/Wiktionnaire:10000-wp-fr-8000\n",
      "https://fr.wiktionary.org/wiki/Wiktionnaire:10000-wp-fr-9000\n",
      "https://fr.wiktionary.org/wiki/Wiktionnaire:10000-wp-fr-10000\n"
     ]
    }
   ],
   "source": [
    "for i in range(1,11):\n",
    "    url = dict_url.format(num=i)\n",
    "    response = urllib2.urlopen(url).read()\n",
    "    selector = Selector(text=response)\n",
    "    \n",
    "    words = selector.css('#mw-content-text ul li a').xpath('./text()').extract()\n",
    "    for word in words:\n",
    "        dictionnary.add(process_word(word))"
   ]
  },
  {
   "cell_type": "markdown",
   "metadata": {},
   "source": [
    "Sort dictionnary"
   ]
  },
  {
   "cell_type": "code",
   "execution_count": 96,
   "metadata": {
    "collapsed": false
   },
   "outputs": [],
   "source": [
    "dictionnary = sorted(dictionnary)"
   ]
  },
  {
   "cell_type": "code",
   "execution_count": 97,
   "metadata": {
    "collapsed": false
   },
   "outputs": [
    {
     "name": "stdout",
     "output_type": "stream",
     "text": [
      "8486\n"
     ]
    }
   ],
   "source": [
    "print len(dictionnary)"
   ]
  },
  {
   "cell_type": "markdown",
   "metadata": {},
   "source": [
    "## Remove stopwords"
   ]
  },
  {
   "cell_type": "code",
   "execution_count": 107,
   "metadata": {
    "collapsed": false,
    "scrolled": true
   },
   "outputs": [],
   "source": [
    "stopwords = []\n",
    "stopwords_fd = open(stopwords_filename, 'r')\n",
    "for line in stopwords_fd.readlines():\n",
    "    stopwords.append(process_word(line[:-1]))"
   ]
  },
  {
   "cell_type": "markdown",
   "metadata": {},
   "source": [
    "Remove stopwords from dictionnary"
   ]
  },
  {
   "cell_type": "code",
   "execution_count": 108,
   "metadata": {
    "collapsed": true
   },
   "outputs": [],
   "source": [
    "dictionnary = set(dictionnary) - set(stopwords)"
   ]
  },
  {
   "cell_type": "code",
   "execution_count": 109,
   "metadata": {
    "collapsed": false
   },
   "outputs": [
    {
     "name": "stdout",
     "output_type": "stream",
     "text": [
      "8303\n"
     ]
    }
   ],
   "source": [
    "print len(dictionnary)"
   ]
  },
  {
   "cell_type": "code",
   "execution_count": null,
   "metadata": {
    "collapsed": true
   },
   "outputs": [],
   "source": []
  }
 ],
 "metadata": {
  "kernelspec": {
   "display_name": "Python 2",
   "language": "python",
   "name": "python2"
  },
  "language_info": {
   "codemirror_mode": {
    "name": "ipython",
    "version": 2
   },
   "file_extension": ".py",
   "mimetype": "text/x-python",
   "name": "python",
   "nbconvert_exporter": "python",
   "pygments_lexer": "ipython2",
   "version": "2.7.12"
  }
 },
 "nbformat": 4,
 "nbformat_minor": 2
}
