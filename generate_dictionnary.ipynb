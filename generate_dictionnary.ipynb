{
 "cells": [
  {
   "cell_type": "markdown",
   "metadata": {},
   "source": [
    "# Collect french words"
   ]
  },
  {
   "cell_type": "markdown",
   "metadata": {},
   "source": [
    "https://fr.wiktionary.org/wiki/Wiktionnaire:10000-wp-fr"
   ]
  },
  {
   "cell_type": "code",
   "execution_count": 70,
   "metadata": {
    "collapsed": true
   },
   "outputs": [],
   "source": [
    "import os\n",
    "import urllib2\n",
    "import unidecode\n",
    "\n",
    "import numpy as np\n",
    "\n",
    "from scrapy.selector import Selector\n",
    "from scrapy.http import HtmlResponse\n",
    "\n",
    "import search_engine.structure.suffix_tree as suffix_tree"
   ]
  },
  {
   "cell_type": "code",
   "execution_count": 71,
   "metadata": {
    "collapsed": true
   },
   "outputs": [],
   "source": [
    "dict_url = 'https://fr.wiktionary.org/wiki/Wiktionnaire:10000-wp-fr-{num}000'\n",
    "dict_filename = 'data/dictionnary.fr.txt'\n",
    "stopwords_filename = 'data/stopwords.fr.txt'\n",
    "\n",
    "if not os.path.exists('data'):\n",
    "    os.mkdir('data')"
   ]
  },
  {
   "cell_type": "code",
   "execution_count": 72,
   "metadata": {
    "collapsed": true
   },
   "outputs": [],
   "source": [
    "dictionnary = set()"
   ]
  },
  {
   "cell_type": "code",
   "execution_count": 73,
   "metadata": {
    "collapsed": true
   },
   "outputs": [],
   "source": [
    "def process_word(word):\n",
    "    return unidecode.unidecode(word).lower()"
   ]
  },
  {
   "cell_type": "code",
   "execution_count": 74,
   "metadata": {
    "collapsed": false
   },
   "outputs": [
    {
     "name": "stdout",
     "output_type": "stream",
     "text": [
      "uuuyaa ae ceeeeiio oe uuuyaaceeeeiio ae oe\n"
     ]
    }
   ],
   "source": [
    "w = 'ùûüÿàâ æ çéèêëïîô œ ÙÛÜŸÀÂÇÉÈÊËÏÎÔ Æ Œ'.decode('utf-8')\n",
    "print process_word(w)"
   ]
  },
  {
   "cell_type": "markdown",
   "metadata": {},
   "source": [
    "Get words from wiktionnaire"
   ]
  },
  {
   "cell_type": "code",
   "execution_count": 75,
   "metadata": {
    "collapsed": false
   },
   "outputs": [],
   "source": [
    "for i in range(1,11):\n",
    "    url = dict_url.format(num=i)\n",
    "    response = urllib2.urlopen(url).read()\n",
    "    selector = Selector(text=response)\n",
    "    \n",
    "    words = selector.css('#mw-content-text ul li a').xpath('./text()').extract()\n",
    "    for word in words:\n",
    "        dictionnary.add(process_word(word))"
   ]
  },
  {
   "cell_type": "markdown",
   "metadata": {},
   "source": [
    "Sort dictionnary"
   ]
  },
  {
   "cell_type": "code",
   "execution_count": 76,
   "metadata": {
    "collapsed": false
   },
   "outputs": [
    {
     "name": "stdout",
     "output_type": "stream",
     "text": [
      "8486\n"
     ]
    }
   ],
   "source": [
    "print len(dictionnary)"
   ]
  },
  {
   "cell_type": "markdown",
   "metadata": {},
   "source": [
    "# Remove stopwords"
   ]
  },
  {
   "cell_type": "code",
   "execution_count": 77,
   "metadata": {
    "collapsed": false,
    "scrolled": true
   },
   "outputs": [],
   "source": [
    "stopwords = []\n",
    "stopwords_fd = open(stopwords_filename, 'r')\n",
    "for line in stopwords_fd.readlines():\n",
    "    stopwords.append(process_word(line[:-1].decode('utf-8')))"
   ]
  },
  {
   "cell_type": "markdown",
   "metadata": {},
   "source": [
    "Remove stopwords from dictionnary"
   ]
  },
  {
   "cell_type": "code",
   "execution_count": 78,
   "metadata": {
    "collapsed": true
   },
   "outputs": [],
   "source": [
    "dictionnary = set(dictionnary) - set(stopwords)\n",
    "dictionnary = sorted(list(dictionnary))"
   ]
  },
  {
   "cell_type": "markdown",
   "metadata": {},
   "source": [
    "# Remove bad characteres"
   ]
  },
  {
   "cell_type": "code",
   "execution_count": 79,
   "metadata": {
    "collapsed": true
   },
   "outputs": [],
   "source": [
    "bad = ['~', '|', '\\\\', '$', '+', '*', '%', '\"', '_', '^', '.']\n",
    "dictionnary = [word for word in dictionnary if not any(b in word for b in bad)]"
   ]
  },
  {
   "cell_type": "code",
   "execution_count": 80,
   "metadata": {
    "collapsed": true
   },
   "outputs": [],
   "source": [
    "d = []\n",
    "for word in dictionnary:\n",
    "    word = word.strip('-')\n",
    "    word = word.strip('\\'')\n",
    "    if len(word) == 0:\n",
    "        continue\n",
    "    d.append(word)"
   ]
  },
  {
   "cell_type": "code",
   "execution_count": 81,
   "metadata": {
    "collapsed": false
   },
   "outputs": [],
   "source": [
    "dictionnary = sorted(list(set(d)))"
   ]
  },
  {
   "cell_type": "code",
   "execution_count": 82,
   "metadata": {
    "collapsed": false
   },
   "outputs": [
    {
     "name": "stdout",
     "output_type": "stream",
     "text": [
      "8256\n"
     ]
    }
   ],
   "source": [
    "print len(dictionnary)"
   ]
  },
  {
   "cell_type": "markdown",
   "metadata": {},
   "source": [
    "# Save CSV of word,id"
   ]
  },
  {
   "cell_type": "code",
   "execution_count": 83,
   "metadata": {
    "collapsed": true
   },
   "outputs": [],
   "source": [
    "with open('data/dictionnary.fr.csv', 'w') as fd:\n",
    "    fd.write('id,word\\n')\n",
    "    for i,word in enumerate(dictionnary):\n",
    "        fd.write('{},{}\\n'.format(i, word))"
   ]
  },
  {
   "cell_type": "markdown",
   "metadata": {
    "collapsed": true
   },
   "source": [
    "# Transform dictionnary into Suffix Tree"
   ]
  },
  {
   "cell_type": "code",
   "execution_count": 12,
   "metadata": {
    "collapsed": false
   },
   "outputs": [
    {
     "name": "stdout",
     "output_type": "stream",
     "text": [
      "8303\n"
     ]
    }
   ],
   "source": [
    "tree = suffix_tree.from_dictionnary(dictionnary)\n",
    "print len(tree)"
   ]
  },
  {
   "cell_type": "markdown",
   "metadata": {},
   "source": [
    "# Save Suffix Tree"
   ]
  },
  {
   "cell_type": "code",
   "execution_count": 13,
   "metadata": {
    "collapsed": true
   },
   "outputs": [],
   "source": [
    "tree.save('data/dictionnary.fr.tree')"
   ]
  },
  {
   "cell_type": "markdown",
   "metadata": {},
   "source": [
    "# Load Suffix Tree from file"
   ]
  },
  {
   "cell_type": "code",
   "execution_count": 14,
   "metadata": {
    "collapsed": true
   },
   "outputs": [],
   "source": [
    "tree_copy = suffix_tree.from_file('data/dictionnary.fr.tree')"
   ]
  },
  {
   "cell_type": "markdown",
   "metadata": {},
   "source": [
    "Test if both suffix_tree are the same"
   ]
  },
  {
   "cell_type": "code",
   "execution_count": 16,
   "metadata": {
    "collapsed": false
   },
   "outputs": [
    {
     "name": "stdout",
     "output_type": "stream",
     "text": [
      "8303\n",
      "8303\n",
      "True\n"
     ]
    }
   ],
   "source": [
    "print len(tree_copy)\n",
    "dictionnary_copy = suffix_tree.to_list(tree_copy)\n",
    "print len(dictionnary_copy)\n",
    "print set(dictionnary) == set(dictionnary_copy)"
   ]
  }
 ],
 "metadata": {
  "kernelspec": {
   "display_name": "Python 2",
   "language": "python",
   "name": "python2"
  },
  "language_info": {
   "codemirror_mode": {
    "name": "ipython",
    "version": 2
   },
   "file_extension": ".py",
   "mimetype": "text/x-python",
   "name": "python",
   "nbconvert_exporter": "python",
   "pygments_lexer": "ipython2",
   "version": "2.7.12"
  }
 },
 "nbformat": 4,
 "nbformat_minor": 2
}
