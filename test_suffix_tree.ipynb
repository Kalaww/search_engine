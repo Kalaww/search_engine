{
 "cells": [
  {
   "cell_type": "code",
   "execution_count": 11,
   "metadata": {
    "collapsed": false
   },
   "outputs": [],
   "source": [
    "import search_engine.structure.suffix_tree as suffix_tree\n",
    "import os"
   ]
  },
  {
   "cell_type": "code",
   "execution_count": 12,
   "metadata": {
    "collapsed": true
   },
   "outputs": [],
   "source": [
    "if not os.path.exists('data'):\n",
    "    os.mkdir('data')"
   ]
  },
  {
   "cell_type": "code",
   "execution_count": 2,
   "metadata": {
    "collapsed": true
   },
   "outputs": [],
   "source": [
    "d = ['abc', 'c', 'a', 'abcc', 'abx', 'abd']"
   ]
  },
  {
   "cell_type": "code",
   "execution_count": 3,
   "metadata": {
    "collapsed": false
   },
   "outputs": [],
   "source": [
    "tree = suffix_tree.from_dictionnary(d)"
   ]
  },
  {
   "cell_type": "code",
   "execution_count": 4,
   "metadata": {
    "collapsed": false
   },
   "outputs": [
    {
     "name": "stdout",
     "output_type": "stream",
     "text": [
      "a #\n",
      "\tb \n",
      "\t\tc #\n",
      "\t\t\tc #\n",
      "\t\tx #\n",
      "\t\td #\n",
      "c #\n",
      "\n"
     ]
    }
   ],
   "source": [
    "print tree"
   ]
  },
  {
   "cell_type": "code",
   "execution_count": 5,
   "metadata": {
    "collapsed": false
   },
   "outputs": [
    {
     "name": "stdout",
     "output_type": "stream",
     "text": [
      "True\n",
      "False\n",
      "True\n",
      "True\n",
      "False\n"
     ]
    }
   ],
   "source": [
    "print 'abd' in tree\n",
    "print 'ab' in tree\n",
    "print 'a' in tree\n",
    "print 'abcc' in tree\n",
    "print 'accb' in tree"
   ]
  },
  {
   "cell_type": "code",
   "execution_count": 6,
   "metadata": {
    "collapsed": false
   },
   "outputs": [
    {
     "name": "stdout",
     "output_type": "stream",
     "text": [
      "6\n"
     ]
    }
   ],
   "source": [
    "print len(tree)"
   ]
  },
  {
   "cell_type": "code",
   "execution_count": 7,
   "metadata": {
    "collapsed": false
   },
   "outputs": [],
   "source": [
    "save_filename = '/tmp/suffix_tree_test.tree'\n",
    "tree.save(save_filename)"
   ]
  },
  {
   "cell_type": "code",
   "execution_count": 8,
   "metadata": {
    "collapsed": false
   },
   "outputs": [
    {
     "name": "stdout",
     "output_type": "stream",
     "text": [
      "a 1\n",
      " b 0\n",
      "  c 1\n",
      "   c 1\n",
      "  x 1\n",
      "  d 1\n",
      "c 1\n"
     ]
    }
   ],
   "source": [
    "with open(save_filename, 'r') as fd:\n",
    "    for line in fd:\n",
    "        print line[:-1]"
   ]
  },
  {
   "cell_type": "code",
   "execution_count": 9,
   "metadata": {
    "collapsed": false
   },
   "outputs": [
    {
     "name": "stdout",
     "output_type": "stream",
     "text": [
      "a #\n",
      "\tb \n",
      "\t\tc #\n",
      "\t\t\tc #\n",
      "\t\tx #\n",
      "\t\td #\n",
      "c #\n",
      "\n"
     ]
    }
   ],
   "source": [
    "tree_copy = suffix_tree.from_file(save_filename)\n",
    "print tree_copy"
   ]
  },
  {
   "cell_type": "code",
   "execution_count": 10,
   "metadata": {
    "collapsed": false
   },
   "outputs": [
    {
     "name": "stdout",
     "output_type": "stream",
     "text": [
      "6\n",
      "['a', 'abc', 'abcc', 'abx', 'abd', 'c']\n",
      "True\n"
     ]
    }
   ],
   "source": [
    "d1 = suffix_tree.to_list(tree_copy)\n",
    "print len(d1)\n",
    "print d1\n",
    "print set(d) == set(d1)"
   ]
  }
 ],
 "metadata": {
  "kernelspec": {
   "display_name": "Python 2",
   "language": "python",
   "name": "python2"
  },
  "language_info": {
   "codemirror_mode": {
    "name": "ipython",
    "version": 2
   },
   "file_extension": ".py",
   "mimetype": "text/x-python",
   "name": "python",
   "nbconvert_exporter": "python",
   "pygments_lexer": "ipython2",
   "version": "2.7.12"
  }
 },
 "nbformat": 4,
 "nbformat_minor": 2
}
