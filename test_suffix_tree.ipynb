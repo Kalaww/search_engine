{
 "cells": [
  {
   "cell_type": "code",
   "execution_count": 1,
   "metadata": {
    "collapsed": true
   },
   "outputs": [],
   "source": [
    "from search_engine.structure.suffix_tree import from_sorted_dictionnary"
   ]
  },
  {
   "cell_type": "code",
   "execution_count": 2,
   "metadata": {
    "collapsed": true
   },
   "outputs": [],
   "source": [
    "d = ['abc', 'c', 'a', 'abcc', 'abx', 'abd']"
   ]
  },
  {
   "cell_type": "code",
   "execution_count": 4,
   "metadata": {
    "collapsed": false
   },
   "outputs": [
    {
     "name": "stdout",
     "output_type": "stream",
     "text": [
      " \n",
      "\tabc #\n",
      "_______________________\n",
      " \n",
      "\tabc #\n",
      "\tc #\n",
      "_______________________\n",
      " \n",
      "\ta #\n",
      "\t\tbc #\n",
      "\tc #\n",
      "_______________________\n",
      " \n",
      "\ta #\n",
      "\t\tbc #\n",
      "\t\t\tc #\n",
      "\tc #\n",
      "_______________________\n",
      " \n",
      "\ta #\n",
      "\t\tb \n",
      "\t\t\tc #\n",
      "\t\t\t\tc #\n",
      "\t\t\tx #\n",
      "\tc #\n",
      "_______________________\n",
      " \n",
      "\ta #\n",
      "\t\tb \n",
      "\t\t\tc #\n",
      "\t\t\t\tc #\n",
      "\t\t\tx #\n",
      "\t\t\td #\n",
      "\tc #\n",
      "_______________________\n"
     ]
    }
   ],
   "source": [
    "s = from_sorted_dictionnary(d)"
   ]
  },
  {
   "cell_type": "code",
   "execution_count": 5,
   "metadata": {
    "collapsed": false
   },
   "outputs": [
    {
     "name": "stdout",
     "output_type": "stream",
     "text": [
      " \n",
      "\ta #\n",
      "\t\tb \n",
      "\t\t\tc #\n",
      "\t\t\t\tc #\n",
      "\t\t\tx #\n",
      "\t\t\td #\n",
      "\tc #\n"
     ]
    }
   ],
   "source": [
    "print s"
   ]
  },
  {
   "cell_type": "code",
   "execution_count": 6,
   "metadata": {
    "collapsed": false
   },
   "outputs": [
    {
     "name": "stdout",
     "output_type": "stream",
     "text": [
      "False\n",
      "False\n",
      "True\n"
     ]
    }
   ],
   "source": [
    "print 'b' in d\n",
    "print 'ab' in d\n",
    "print 'a' in d"
   ]
  }
 ],
 "metadata": {
  "kernelspec": {
   "display_name": "Python 2",
   "language": "python",
   "name": "python2"
  },
  "language_info": {
   "codemirror_mode": {
    "name": "ipython",
    "version": 2
   },
   "file_extension": ".py",
   "mimetype": "text/x-python",
   "name": "python",
   "nbconvert_exporter": "python",
   "pygments_lexer": "ipython2",
   "version": "2.7.12"
  }
 },
 "nbformat": 4,
 "nbformat_minor": 2
}
